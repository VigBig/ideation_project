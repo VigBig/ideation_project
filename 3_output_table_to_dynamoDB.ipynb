{
 "cells": [
  {
   "cell_type": "code",
   "execution_count": 1,
   "metadata": {},
   "outputs": [
    {
     "data": {
      "text/plain": [
       "'\\n\\n@Author: Vighnesh Harish Bilgi\\n@Date: 2022-11-25\\n@Last Modified by: Vighnesh Harish Bilgi\\n@Last Modified time: 2022-11-25\\n@Title : Ideation Project - 3. Fetch output .csv files from S3 bucket and and upload it to DyanmoDB Table\\n\\n'"
      ]
     },
     "execution_count": 1,
     "metadata": {},
     "output_type": "execute_result"
    }
   ],
   "source": [
    "'''\n",
    "\n",
    "@Author: Vighnesh Harish Bilgi\n",
    "@Date: 2022-11-25\n",
    "@Last Modified by: Vighnesh Harish Bilgi\n",
    "@Last Modified time: 2022-11-25\n",
    "@Title : Ideation Project - 3. Fetch output .csv files from S3 bucket and and upload it to DyanmoDB Table\n",
    "\n",
    "'''"
   ]
  },
  {
   "cell_type": "code",
   "execution_count": 2,
   "metadata": {},
   "outputs": [],
   "source": [
    "import boto3\n",
    "import pandas as pd"
   ]
  },
  {
   "cell_type": "code",
   "execution_count": 3,
   "metadata": {},
   "outputs": [],
   "source": [
    "import os\n",
    "os.environ['AWS_DEFAULT_REGION'] = 'us-east-1'\n",
    "os.environ['AWS_ACCESS_KEY_ID'] = os.environ.get('test1_access_key')\n",
    "os.environ['AWS_SECRET_ACCESS_KEY'] = os.environ.get('test1_secret_access_key')"
   ]
  },
  {
   "cell_type": "code",
   "execution_count": 5,
   "metadata": {},
   "outputs": [],
   "source": [
    "def connect_to_s3_client():\n",
    "    \"\"\"\n",
    "\n",
    "    Description:\n",
    "        To connect to AWS S3 service.\n",
    "    Parameter:\n",
    "        No parameters\n",
    "    Return:\n",
    "        ServiceResource s3\n",
    "    \"\"\"\n",
    "    # s3 =  boto3.resource('s3')\n",
    "    client = boto3.client(\"s3\")\n",
    "    return client\n",
    "\n",
    "\n",
    "def connect_to_s3_resource():\n",
    "    \"\"\"\n",
    "\n",
    "    Description:\n",
    "        To connect to AWS S3 service through an IAM user.\n",
    "    Parameter:\n",
    "        No parameters\n",
    "    Return:\n",
    "        ServiceResource s3\n",
    "    \"\"\"\n",
    "    s3 =  boto3.resource(service_name = 's3')\n",
    "    return s3"
   ]
  },
  {
   "cell_type": "code",
   "execution_count": 33,
   "metadata": {},
   "outputs": [],
   "source": [
    "def connect_to_dynamoDB():\n",
    "    \"\"\"\n",
    "\n",
    "    Description:\n",
    "        To connect to AWS DynamoDB service.\n",
    "    Parameter:\n",
    "        No parameters\n",
    "    Return:\n",
    "        ServiceResource dyDB\n",
    "\n",
    "    \"\"\"\n",
    "    dyDB =  boto3.resource('dynamodb')\n",
    "    return dyDB\n",
    "\n",
    "def create_dataset_items(table,dataset_records):\n",
    "    \"\"\"\n",
    "\n",
    "    Description:\n",
    "        To create items in a table of DynamoDB.\n",
    "    Parameter:\n",
    "        dynamodb.table table\n",
    "    Return:\n",
    "        No values returned.\n",
    "\n",
    "    \"\"\"\n",
    "    table.put_item(\n",
    "        Item={\n",
    "                'id': dataset_records[0],\n",
    "                'userId': dataset_records[1],\n",
    "                'title': dataset_records[2],\n",
    "                'body': dataset_records[3],\n",
    "                'title_word_count': dataset_records[4],\n",
    "                'body_word_count': dataset_records[5]\n",
    "            }\n",
    "    )\n",
    "\n",
    "def create_word_count_items(table,dataset_records,partition_key):\n",
    "    \"\"\"\n",
    "\n",
    "    Description:\n",
    "        To create items in a table of DynamoDB.\n",
    "    Parameter:\n",
    "        dynamodb.table table\n",
    "    Return:\n",
    "        No values returned.\n",
    "\n",
    "    \"\"\"\n",
    "    table.put_item(\n",
    "        Item={\n",
    "                partition_key: dataset_records[0],\n",
    "                'count': dataset_records[1]\n",
    "            }\n",
    "    )\n",
    "\n",
    "def create_dataset_table(dyDB,table_name):\n",
    "    \"\"\"\n",
    "\n",
    "    Description:\n",
    "        To create a dynamoDB table for main dataset if it doen't exist\n",
    "    Parameter:\n",
    "        ServiceResource dyDB\n",
    "    Return:\n",
    "        no value returned\n",
    "\n",
    "    \"\"\"\n",
    "    \n",
    "    dynamodb_client = boto3.client('dynamodb')\n",
    "    existing_tables = dynamodb_client.list_tables()['TableNames']\n",
    "\n",
    "    if table_name not in existing_tables:\n",
    "        # Create the DynamoDB table.\n",
    "        dyDB.create_table(\n",
    "            TableName=table_name,\n",
    "            KeySchema=[\n",
    "                {\n",
    "                    'AttributeName': 'id',\n",
    "                    'KeyType': 'HASH'\n",
    "                },\n",
    "                {\n",
    "                    'AttributeName': 'userId',\n",
    "                    'KeyType': 'RANGE'\n",
    "                }\n",
    "            ],\n",
    "            AttributeDefinitions=[\n",
    "                {\n",
    "                    'AttributeName': 'id',\n",
    "                    'AttributeType': 'N'\n",
    "                },\n",
    "                {\n",
    "                    'AttributeName': 'userId',\n",
    "                    'AttributeType': 'N'\n",
    "                },\n",
    "            ],\n",
    "            ProvisionedThroughput={\n",
    "                'ReadCapacityUnits': 5,\n",
    "                'WriteCapacityUnits': 5\n",
    "            }\n",
    "        )\n",
    "\n",
    "def create_word_count_table(dyDB,table_name,partition_key):\n",
    "    \"\"\"\n",
    "\n",
    "    Description:\n",
    "        To create a dynamoDB table for the word count datasets if it doen't exist\n",
    "    Parameter:\n",
    "        ServiceResource dyDB\n",
    "    Return:\n",
    "        no value returned\n",
    "\n",
    "    \"\"\"\n",
    "    \n",
    "    dynamodb_client = boto3.client('dynamodb')\n",
    "    existing_tables = dynamodb_client.list_tables()['TableNames']\n",
    "\n",
    "    if table_name not in existing_tables:\n",
    "        # Create the DynamoDB table.\n",
    "        dyDB.create_table(\n",
    "            TableName=table_name,\n",
    "            KeySchema=[\n",
    "                {\n",
    "                    'AttributeName': partition_key,\n",
    "                    'KeyType': 'HASH'\n",
    "                }\n",
    "            ],\n",
    "            AttributeDefinitions=[\n",
    "                {\n",
    "                    'AttributeName': partition_key,\n",
    "                    'AttributeType': 'S'\n",
    "                }\n",
    "            ],\n",
    "            ProvisionedThroughput={\n",
    "                'ReadCapacityUnits': 5,\n",
    "                'WriteCapacityUnits': 5\n",
    "            }\n",
    "        )        "
   ]
  },
  {
   "cell_type": "markdown",
   "metadata": {},
   "source": [
    "### 1. Fetching .csv files from S3 Bucket"
   ]
  },
  {
   "cell_type": "markdown",
   "metadata": {},
   "source": [
    "#### 1a. Fetch dataset-output .csv file"
   ]
  },
  {
   "cell_type": "code",
   "execution_count": 28,
   "metadata": {},
   "outputs": [
    {
     "name": "stdout",
     "output_type": "stream",
     "text": [
      "   userId  id                                              title  \\\n",
      "0       1   1  sunt aut facere repellat provident occaecati e...   \n",
      "1       1   2                                       qui est esse   \n",
      "2       1   3  ea molestias quasi exercitationem repellat qui...   \n",
      "3       1   4                               eum et est occaecati   \n",
      "4       1   5                                 nesciunt quas odio   \n",
      "\n",
      "                                                body  title_word_count  \\\n",
      "0  quia et suscipit suscipit recusandae consequun...                 9   \n",
      "1  est rerum tempore vitae sequi sint nihil repre...                 3   \n",
      "2  et iusto sed quo iure voluptatem occaecati omn...                 9   \n",
      "3  ullam et saepe reiciendis voluptatem adipisci ...                 4   \n",
      "4  repudiandae veniam quaerat sunt sed alias aut ...                 3   \n",
      "\n",
      "   body_word_count  \n",
      "0               23  \n",
      "1               31  \n",
      "2               26  \n",
      "3               28  \n",
      "4               23  \n"
     ]
    }
   ],
   "source": [
    "s3 = connect_to_s3_resource()\n",
    "client = connect_to_s3_client()\n",
    "\n",
    "bucket_name = 'dataset-input-bucket'\n",
    "\n",
    "# Fetch dataset-output .csv file\n",
    "dataset_output_obj = client.get_object(Bucket=bucket_name, Key='data-output/part-00000-4a641a34-ee29-46d3-b598-fe45a0876cd2-c000.csv')\n",
    "# convert .csv to pandas dataframe\n",
    "dataset_output_df = pd.read_csv(dataset_output_obj['Body'])\n",
    "print(dataset_output_df.head(5))"
   ]
  },
  {
   "cell_type": "markdown",
   "metadata": {},
   "source": [
    "#### 1b. Fetch dataset-title-output .csv file"
   ]
  },
  {
   "cell_type": "code",
   "execution_count": 36,
   "metadata": {},
   "outputs": [
    {
     "name": "stdout",
     "output_type": "stream",
     "text": [
      "  title_word  count\n",
      "0         et     29\n",
      "1        aut     15\n",
      "2         ut     14\n",
      "3        qui     13\n",
      "4       quia     12\n"
     ]
    }
   ],
   "source": [
    "# Fetch dataset-output .csv file\n",
    "title_output_obj = client.get_object(Bucket=bucket_name, Key='data-title-output/part-00000-81aef290-7783-40ed-984d-d8c715de3d5a-c000.csv')\n",
    "# convert .csv to pandas dataframe\n",
    "title_output_df = pd.read_csv(title_output_obj['Body'])\n",
    "print(title_output_df.head(5))"
   ]
  },
  {
   "cell_type": "markdown",
   "metadata": {},
   "source": [
    "#### 1c. Fetch dataset-body-output .csv file"
   ]
  },
  {
   "cell_type": "code",
   "execution_count": 37,
   "metadata": {},
   "outputs": [
    {
     "name": "stdout",
     "output_type": "stream",
     "text": [
      "  body_word  count\n",
      "0        et    110\n",
      "1       aut     64\n",
      "2       qui     61\n",
      "3        ut     54\n",
      "4       est     45\n"
     ]
    }
   ],
   "source": [
    "# Fetch dataset-output .csv file\n",
    "body_output_obj = client.get_object(Bucket=bucket_name, Key='data-body-output/part-00000-e9c70918-046e-46cb-9325-1b4e62a3d610-c000.csv')\n",
    "# convert .csv to pandas dataframe\n",
    "body_output_df = pd.read_csv(body_output_obj['Body'])\n",
    "print(body_output_df.head(5))"
   ]
  },
  {
   "cell_type": "markdown",
   "metadata": {},
   "source": [
    "### 2. Uploading records of .csv files into DynamoDB"
   ]
  },
  {
   "cell_type": "markdown",
   "metadata": {},
   "source": [
    "#### 2a. Uploading records dataset-output .csv file into a DynamoDB Table"
   ]
  },
  {
   "cell_type": "code",
   "execution_count": 34,
   "metadata": {},
   "outputs": [
    {
     "name": "stdout",
     "output_type": "stream",
     "text": [
      "DateTime creation of Table : 2022-11-26 14:02:53.348000+05:30\n"
     ]
    }
   ],
   "source": [
    "dyDB = connect_to_dynamoDB()\n",
    "dataset_table_name = 'dataset_output'\n",
    "\n",
    "create_dataset_table(dyDB,dataset_table_name)\n",
    "table = dyDB.Table(dataset_table_name)\n",
    "table.wait_until_exists()\n",
    "\n",
    "print(f\"DateTime creation of Table : {table.creation_date_time}\")\n",
    "\n",
    "for index,row in dataset_output_df.iterrows():\n",
    "    record_as_tuple = row['id'],row['userId'],row['title'],row['body'],row['title_word_count'],row['body_word_count']\n",
    "    record_as_list = list(record_as_tuple)\n",
    "    create_dataset_items(table,record_as_list)"
   ]
  },
  {
   "cell_type": "markdown",
   "metadata": {},
   "source": [
    "#### 2b. Uploading records dataset-title-output .csv file into a DynamoDB Table"
   ]
  },
  {
   "cell_type": "code",
   "execution_count": 38,
   "metadata": {},
   "outputs": [
    {
     "name": "stdout",
     "output_type": "stream",
     "text": [
      "DateTime creation of Table : 2022-11-26 14:05:50.036000+05:30\n"
     ]
    }
   ],
   "source": [
    "title_table_name = 'title_count_table'\n",
    "title_word_key = 'title_word'\n",
    "\n",
    "create_word_count_table(dyDB,title_table_name,title_word_key)\n",
    "table = dyDB.Table(title_table_name)\n",
    "table.wait_until_exists()\n",
    "\n",
    "print(f\"DateTime creation of Table : {table.creation_date_time}\")\n",
    "\n",
    "for index,row in title_output_df.iterrows():\n",
    "    record_as_tuple = row[title_word_key],row['count']\n",
    "    record_as_list = list(record_as_tuple)\n",
    "    create_word_count_items(table,record_as_list,title_word_key)"
   ]
  },
  {
   "cell_type": "markdown",
   "metadata": {},
   "source": [
    "#### 2c. Uploading records dataset-body-output .csv file into a DynamoDB Table"
   ]
  },
  {
   "cell_type": "code",
   "execution_count": 39,
   "metadata": {},
   "outputs": [
    {
     "name": "stdout",
     "output_type": "stream",
     "text": [
      "DateTime creation of Table : 2022-11-26 14:10:43.770000+05:30\n"
     ]
    }
   ],
   "source": [
    "body_table_name = 'body_count_table'\n",
    "body_word_key = 'body_word'\n",
    "\n",
    "create_word_count_table(dyDB,body_table_name,body_word_key)\n",
    "table = dyDB.Table(body_table_name)\n",
    "table.wait_until_exists()\n",
    "\n",
    "print(f\"DateTime creation of Table : {table.creation_date_time}\")\n",
    "\n",
    "for index,row in body_output_df.iterrows():\n",
    "    record_as_tuple = row[body_word_key],row['count']\n",
    "    record_as_list = list(record_as_tuple)\n",
    "    create_word_count_items(table,record_as_list,body_word_key)"
   ]
  }
 ],
 "metadata": {
  "kernelspec": {
   "display_name": "Python 3.8.10 64-bit",
   "language": "python",
   "name": "python3"
  },
  "language_info": {
   "codemirror_mode": {
    "name": "ipython",
    "version": 3
   },
   "file_extension": ".py",
   "mimetype": "text/x-python",
   "name": "python",
   "nbconvert_exporter": "python",
   "pygments_lexer": "ipython3",
   "version": "3.8.10"
  },
  "orig_nbformat": 4,
  "vscode": {
   "interpreter": {
    "hash": "570feb405e2e27c949193ac68f46852414290d515b0ba6e5d90d076ed2284471"
   }
  }
 },
 "nbformat": 4,
 "nbformat_minor": 2
}
