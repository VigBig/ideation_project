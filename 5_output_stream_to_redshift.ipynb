{
 "cells": [
  {
   "cell_type": "code",
   "execution_count": null,
   "metadata": {},
   "outputs": [],
   "source": [
    "'''\n",
    "\n",
    "@Author: Vighnesh Harish Bilgi\n",
    "@Date: 2022-11-25\n",
    "@Last Modified by: Vighnesh Harish Bilgi\n",
    "@Last Modified time: 2022-11-25\n",
    "@Title : Ideation Project - 5. Fetching and transforming output stream files from Kinesis Data Stream and upload them to S3 Bucket to be read by Redshift.\n",
    "\n",
    "'''"
   ]
  },
  {
   "cell_type": "code",
   "execution_count": null,
   "metadata": {},
   "outputs": [],
   "source": [
    "import boto3\n",
    "import json\n",
    "import pandas as pd"
   ]
  },
  {
   "cell_type": "code",
   "execution_count": null,
   "metadata": {},
   "outputs": [],
   "source": [
    "import os\n",
    "os.environ['AWS_DEFAULT_REGION'] = 'ap-south-1'\n",
    "os.environ['AWS_ACCESS_KEY_ID'] = os.environ.get('test1_access_key')\n",
    "os.environ['AWS_SECRET_ACCESS_KEY'] = os.environ.get('test1_secret_access_key')"
   ]
  },
  {
   "cell_type": "code",
   "execution_count": null,
   "metadata": {},
   "outputs": [],
   "source": [
    "def connect_to_s3_client():\n",
    "    \"\"\"\n",
    "\n",
    "    Description:\n",
    "        To connect to AWS S3 service.\n",
    "    Parameter:\n",
    "        No parameters\n",
    "    Return:\n",
    "        ServiceResource s3\n",
    "    \"\"\"\n",
    "    # s3 =  boto3.resource('s3')\n",
    "    client = boto3.client(\"s3\")\n",
    "    return client\n",
    "\n",
    "\n",
    "def connect_to_s3_resource():\n",
    "    \"\"\"\n",
    "\n",
    "    Description:\n",
    "        To connect to AWS S3 service through an IAM user.\n",
    "    Parameter:\n",
    "        No parameters\n",
    "    Return:\n",
    "        ServiceResource s3\n",
    "    \"\"\"\n",
    "    s3 =  boto3.resource(service_name = 's3')\n",
    "    return s3\n",
    "\n",
    "\n",
    "def file_to_csv(filename):\n",
    "    \"\"\"\n",
    "\n",
    "    Description:\n",
    "        To read records/dictionaries from text file and convert it into a .csv file.\n",
    "    Parameter:\n",
    "        string filename\n",
    "    Return:\n",
    "        Dataframe df\n",
    "    \"\"\"\n",
    "    with open(f\"streaming_output/{filename}.txt\" , encoding=\"utf8\") as file:\n",
    "            data = file.read()\n",
    "            list_of_incomp_str_dict = data.split('}')\n",
    "    \n",
    "    # print(list_of_incomp_str_dict)\n",
    "\n",
    "    list_of_comp_str_dict = []\n",
    "\n",
    "    for inc_dict in list_of_incomp_str_dict:\n",
    "        list_of_comp_str_dict.append(inc_dict+\"}\")\n",
    "\n",
    "    list_of_comp_str_dict.pop()\n",
    "    # print(list_of_comp_str_dict)\n",
    "\n",
    "    #Now we convert dictionary as string to dictionary\n",
    "    list_of_dict = []\n",
    "\n",
    "    for str_dict in list_of_comp_str_dict:\n",
    "        list_of_dict.append(json.loads(str_dict))\n",
    "\n",
    "    df = pd.DataFrame(list_of_dict)\n",
    "    df.to_csv(f'streaming_output\\{filename}.csv', index=False, header=True)\n",
    "    \n",
    "    return df"
   ]
  },
  {
   "cell_type": "code",
   "execution_count": null,
   "metadata": {},
   "outputs": [],
   "source": [
    "client = connect_to_s3_client()\n",
    "\n",
    "filename = 'dataset_output_stream'\n",
    "client.download_file('output-stream-bucket', 'data/2022/11/27/21/dataset-output-downstream-1-2022-11-27-21-27-56-865201e7-ded1-4432-89a5-1346a975acd8',f'streaming_output/{filename}.txt')\n",
    "\n",
    "file_to_csv(filename)\n",
    "\n",
    "# creating new bucket \n",
    "s3 = connect_to_s3_resource()\n",
    "client.create_bucket(Bucket = 'redshift-dataset-input',ACL = 'public-read-write', CreateBucketConfiguration={'LocationConstraint': 'ap-south-1'})\n",
    "\n",
    "# uploading csv file to the new bucket to be accessed by redshift \n",
    "client.upload_file(Filename = f'streaming_output\\{filename}.csv',Bucket = 'redshift-dataset-input', Key = f'{filename}.csv')"
   ]
  },
  {
   "cell_type": "code",
   "execution_count": null,
   "metadata": {},
   "outputs": [],
   "source": [
    "filename = 'title_output_stream'\n",
    "client.download_file('output-stream-bucket', 'data/2022/11/27/21/dataset-output-downstream-1-2022-11-27-21-38-06-46b677af-8235-4e1a-b033-3a021bd8f072',f'streaming_output/{filename}.txt')\n",
    "\n",
    "file_to_csv(filename)\n",
    "\n",
    "# uploading csv file to the new bucket to be accessed by redshift \n",
    "client.upload_file(Filename = f'streaming_output\\{filename}.csv',Bucket = 'redshift-dataset-input', Key = f'{filename}.csv')"
   ]
  },
  {
   "cell_type": "code",
   "execution_count": null,
   "metadata": {},
   "outputs": [],
   "source": [
    "filename = 'body_output_stream'\n",
    "client.download_file('output-stream-bucket', 'data/2022/11/27/22/dataset-output-downstream-1-2022-11-27-22-08-59-f488159f-f493-4743-9c78-0b53db63cbcb',f'streaming_output/{filename}.txt')\n",
    "\n",
    "file_to_csv(filename)\n",
    "\n",
    "# uploading csv file to the new bucket to be accessed by redshift \n",
    "client.upload_file(Filename = f'streaming_output\\{filename}.csv',Bucket = 'redshift-dataset-input', Key = f'{filename}.csv')"
   ]
  }
 ],
 "metadata": {
  "kernelspec": {
   "display_name": "Python 3.8.10 64-bit",
   "language": "python",
   "name": "python3"
  },
  "language_info": {
   "codemirror_mode": {
    "name": "ipython",
    "version": 3
   },
   "file_extension": ".py",
   "mimetype": "text/x-python",
   "name": "python",
   "nbconvert_exporter": "python",
   "pygments_lexer": "ipython3",
   "version": "3.8.10"
  },
  "orig_nbformat": 4,
  "vscode": {
   "interpreter": {
    "hash": "570feb405e2e27c949193ac68f46852414290d515b0ba6e5d90d076ed2284471"
   }
  }
 },
 "nbformat": 4,
 "nbformat_minor": 2
}
